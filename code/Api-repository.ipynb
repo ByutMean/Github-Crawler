{
 "cells": [
  {
   "cell_type": "code",
   "execution_count": 1,
   "id": "f75bba63",
   "metadata": {},
   "outputs": [],
   "source": [
    "import pandas as pd\n",
    "import requests"
   ]
  },
  {
   "cell_type": "code",
   "execution_count": 2,
   "id": "fde28414",
   "metadata": {},
   "outputs": [],
   "source": [
    "url_zip=pd.read_csv('git_url_file.xlsx')"
   ]
  },
  {
   "cell_type": "code",
   "execution_count": 3,
   "id": "823656ac",
   "metadata": {},
   "outputs": [],
   "source": [
    "url_zip=url_zip['0']"
   ]
  },
  {
   "cell_type": "code",
   "execution_count": 8,
   "id": "fe1faff7",
   "metadata": {},
   "outputs": [],
   "source": [
    "api_url=[]\n",
    "for i in url_zip:\n",
    "    api=i.replace('//github.com','//api.github.com/repos')\n",
    "    api_url.append(api)"
   ]
  },
  {
   "cell_type": "code",
   "execution_count": 10,
   "id": "ac481961",
   "metadata": {},
   "outputs": [],
   "source": [
    "username= '##'\n",
    "token= '##'"
   ]
  },
  {
   "cell_type": "code",
   "execution_count": 12,
   "id": "dae8effc",
   "metadata": {},
   "outputs": [],
   "source": [
    "api_target=['description','created_at','forks','open_issues','watchers','language']"
   ]
  },
  {
   "cell_type": "code",
   "execution_count": 13,
   "id": "919068d1",
   "metadata": {},
   "outputs": [],
   "source": [
    "headers = {'Authorization': 'token ' + token}"
   ]
  },
  {
   "cell_type": "code",
   "execution_count": 14,
   "id": "9b6292fd",
   "metadata": {},
   "outputs": [],
   "source": [
    "api_list=[]\n"
   ]
  },
  {
   "cell_type": "code",
   "execution_count": 15,
   "id": "cc10cfda",
   "metadata": {},
   "outputs": [
    {
     "name": "stderr",
     "output_type": "stream",
     "text": [
      "100%|██████████████████████████████████████████████████████████████████████████████| 5000/5000 [25:20<00:00,  3.29it/s]\n"
     ]
    }
   ],
   "source": [
    "from tqdm import tqdm\n",
    "import time\n",
    "for i in tqdm(api_url[:5000]):\n",
    "    response = requests.get(i,headers=headers)\n",
    "    temp=[]\n",
    "    for j in api_target:\n",
    "        re_li=response.json()[j]\n",
    "        temp.append(re_li)\n",
    "    api_list.append(temp)\n"
   ]
  },
  {
   "cell_type": "code",
   "execution_count": null,
   "id": "3b73da09",
   "metadata": {},
   "outputs": [],
   "source": [
    "api_target=['description','created_at','forks','open_issues','watchers','language']"
   ]
  },
  {
   "cell_type": "code",
   "execution_count": 16,
   "id": "b56e66d1",
   "metadata": {},
   "outputs": [],
   "source": [
    "api_description=[]\n",
    "api_created=[]\n",
    "api_forks=[]\n",
    "api_openissue=[]\n",
    "api_stars=[]\n",
    "api_language=[]\n",
    "for i in api_list:\n",
    "    api_description.append(i[0])\n",
    "    api_created.append(i[1])\n",
    "    api_forks.append(i[2])\n",
    "    api_openissue.append(i[3])\n",
    "    api_stars.append(i[4])\n",
    "    api_language.append(i[5])"
   ]
  },
  {
   "cell_type": "code",
   "execution_count": 17,
   "id": "b07db983",
   "metadata": {},
   "outputs": [],
   "source": [
    "from pandas import Series\n",
    "a=Series(data=api_description)\n",
    "b=Series(data=api_created)\n",
    "c=Series(data=api_forks)\n",
    "d=Series(data=api_openissue)\n",
    "e=Series(data=api_stars)\n",
    "f=Series(data=api_language)"
   ]
  },
  {
   "cell_type": "code",
   "execution_count": 18,
   "id": "642f3f55",
   "metadata": {},
   "outputs": [
    {
     "data": {
      "text/html": [
       "<div>\n",
       "<style scoped>\n",
       "    .dataframe tbody tr th:only-of-type {\n",
       "        vertical-align: middle;\n",
       "    }\n",
       "\n",
       "    .dataframe tbody tr th {\n",
       "        vertical-align: top;\n",
       "    }\n",
       "\n",
       "    .dataframe thead th {\n",
       "        text-align: right;\n",
       "    }\n",
       "</style>\n",
       "<table border=\"1\" class=\"dataframe\">\n",
       "  <thead>\n",
       "    <tr style=\"text-align: right;\">\n",
       "      <th></th>\n",
       "      <th>0</th>\n",
       "      <th>1</th>\n",
       "      <th>2</th>\n",
       "      <th>3</th>\n",
       "      <th>4</th>\n",
       "      <th>5</th>\n",
       "    </tr>\n",
       "  </thead>\n",
       "  <tbody>\n",
       "    <tr>\n",
       "      <th>0</th>\n",
       "      <td>DeepSpeed is a deep learning optimization libr...</td>\n",
       "      <td>2020-01-23T18:35:18Z</td>\n",
       "      <td>557</td>\n",
       "      <td>316</td>\n",
       "      <td>5340</td>\n",
       "      <td>Python</td>\n",
       "    </tr>\n",
       "    <tr>\n",
       "      <th>1</th>\n",
       "      <td>DeepIE: Deep Learning for Information Extraction</td>\n",
       "      <td>2020-01-07T09:51:24Z</td>\n",
       "      <td>262</td>\n",
       "      <td>17</td>\n",
       "      <td>1267</td>\n",
       "      <td>Python</td>\n",
       "    </tr>\n",
       "    <tr>\n",
       "      <th>2</th>\n",
       "      <td>深度学习中的一些小Demo。</td>\n",
       "      <td>2020-01-02T08:10:53Z</td>\n",
       "      <td>179</td>\n",
       "      <td>3</td>\n",
       "      <td>185</td>\n",
       "      <td>Python</td>\n",
       "    </tr>\n",
       "    <tr>\n",
       "      <th>3</th>\n",
       "      <td>AWS Deep Learning Containers (DLCs) are a set ...</td>\n",
       "      <td>2020-01-17T20:52:43Z</td>\n",
       "      <td>167</td>\n",
       "      <td>77</td>\n",
       "      <td>243</td>\n",
       "      <td>Python</td>\n",
       "    </tr>\n",
       "    <tr>\n",
       "      <th>4</th>\n",
       "      <td>深度学习近年来关于神经网络模型解释性的相关高引用/顶会论文(附带代码)</td>\n",
       "      <td>2020-01-01T02:17:20Z</td>\n",
       "      <td>81</td>\n",
       "      <td>2</td>\n",
       "      <td>470</td>\n",
       "      <td>None</td>\n",
       "    </tr>\n",
       "    <tr>\n",
       "      <th>...</th>\n",
       "      <td>...</td>\n",
       "      <td>...</td>\n",
       "      <td>...</td>\n",
       "      <td>...</td>\n",
       "      <td>...</td>\n",
       "      <td>...</td>\n",
       "    </tr>\n",
       "    <tr>\n",
       "      <th>4995</th>\n",
       "      <td>None</td>\n",
       "      <td>2020-05-08T10:01:25Z</td>\n",
       "      <td>1</td>\n",
       "      <td>0</td>\n",
       "      <td>1</td>\n",
       "      <td>Python</td>\n",
       "    </tr>\n",
       "    <tr>\n",
       "      <th>4996</th>\n",
       "      <td>머신러닝과 딥러닝 공부</td>\n",
       "      <td>2020-05-08T16:03:19Z</td>\n",
       "      <td>0</td>\n",
       "      <td>0</td>\n",
       "      <td>0</td>\n",
       "      <td>Jupyter Notebook</td>\n",
       "    </tr>\n",
       "    <tr>\n",
       "      <th>4997</th>\n",
       "      <td>Extracting Text from US Driving Licence Using ...</td>\n",
       "      <td>2020-05-03T18:32:37Z</td>\n",
       "      <td>1</td>\n",
       "      <td>1</td>\n",
       "      <td>1</td>\n",
       "      <td>Python</td>\n",
       "    </tr>\n",
       "    <tr>\n",
       "      <th>4998</th>\n",
       "      <td>Workshop Introduction to deep Learning</td>\n",
       "      <td>2020-05-02T00:35:48Z</td>\n",
       "      <td>0</td>\n",
       "      <td>0</td>\n",
       "      <td>0</td>\n",
       "      <td>Jupyter Notebook</td>\n",
       "    </tr>\n",
       "    <tr>\n",
       "      <th>4999</th>\n",
       "      <td>None</td>\n",
       "      <td>2020-05-02T03:47:58Z</td>\n",
       "      <td>0</td>\n",
       "      <td>0</td>\n",
       "      <td>0</td>\n",
       "      <td>Jupyter Notebook</td>\n",
       "    </tr>\n",
       "  </tbody>\n",
       "</table>\n",
       "<p>5000 rows × 6 columns</p>\n",
       "</div>"
      ],
      "text/plain": [
       "                                                      0                     1  \\\n",
       "0     DeepSpeed is a deep learning optimization libr...  2020-01-23T18:35:18Z   \n",
       "1      DeepIE: Deep Learning for Information Extraction  2020-01-07T09:51:24Z   \n",
       "2                                        深度学习中的一些小Demo。  2020-01-02T08:10:53Z   \n",
       "3     AWS Deep Learning Containers (DLCs) are a set ...  2020-01-17T20:52:43Z   \n",
       "4                   深度学习近年来关于神经网络模型解释性的相关高引用/顶会论文(附带代码)  2020-01-01T02:17:20Z   \n",
       "...                                                 ...                   ...   \n",
       "4995                                               None  2020-05-08T10:01:25Z   \n",
       "4996                                       머신러닝과 딥러닝 공부  2020-05-08T16:03:19Z   \n",
       "4997  Extracting Text from US Driving Licence Using ...  2020-05-03T18:32:37Z   \n",
       "4998             Workshop Introduction to deep Learning  2020-05-02T00:35:48Z   \n",
       "4999                                               None  2020-05-02T03:47:58Z   \n",
       "\n",
       "        2    3     4                 5  \n",
       "0     557  316  5340            Python  \n",
       "1     262   17  1267            Python  \n",
       "2     179    3   185            Python  \n",
       "3     167   77   243            Python  \n",
       "4      81    2   470              None  \n",
       "...   ...  ...   ...               ...  \n",
       "4995    1    0     1            Python  \n",
       "4996    0    0     0  Jupyter Notebook  \n",
       "4997    1    1     1            Python  \n",
       "4998    0    0     0  Jupyter Notebook  \n",
       "4999    0    0     0  Jupyter Notebook  \n",
       "\n",
       "[5000 rows x 6 columns]"
      ]
     },
     "execution_count": 18,
     "metadata": {},
     "output_type": "execute_result"
    }
   ],
   "source": [
    "final_result=pd.concat([a,b,c,d,e,f], axis=1)\n",
    "final_result.drop_duplicates()\n",
    "final_result"
   ]
  },
  {
   "cell_type": "code",
   "execution_count": null,
   "id": "dc0b85b6",
   "metadata": {},
   "outputs": [],
   "source": []
  }
 ],
 "metadata": {
  "kernelspec": {
   "display_name": "Python 3",
   "language": "python",
   "name": "python3"
  },
  "language_info": {
   "codemirror_mode": {
    "name": "ipython",
    "version": 3
   },
   "file_extension": ".py",
   "mimetype": "text/x-python",
   "name": "python",
   "nbconvert_exporter": "python",
   "pygments_lexer": "ipython3",
   "version": "3.7.10"
  }
 },
 "nbformat": 4,
 "nbformat_minor": 5
}
