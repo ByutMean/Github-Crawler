{
 "cells": [
  {
   "cell_type": "code",
   "execution_count": 1,
   "id": "e3b85c90",
   "metadata": {},
   "outputs": [],
   "source": [
    "import pandas as pd\n",
    "import requests\n",
    "from selenium import webdriver\n",
    "import time\n",
    "import random\n",
    "from tqdm.notebook import tqdm\n",
    "import requests\n",
    "#pip install request\n",
    "#pip install beautifulsoup4\n",
    "from bs4 import BeautifulSoup"
   ]
  },
  {
   "cell_type": "code",
   "execution_count": 2,
   "id": "c65b4863",
   "metadata": {},
   "outputs": [],
   "source": [
    "import pandas as pd\n",
    "import requests"
   ]
  },
  {
   "cell_type": "code",
   "execution_count": 3,
   "id": "acc1b814",
   "metadata": {},
   "outputs": [],
   "source": [
    "url_zip=pd.read_excel('contributor_name.xlsx')"
   ]
  },
  {
   "cell_type": "code",
   "execution_count": 4,
   "id": "3ae228f8",
   "metadata": {},
   "outputs": [],
   "source": [
    "url_zip=url_zip['name']"
   ]
  },
  {
   "cell_type": "code",
   "execution_count": 5,
   "id": "4d5e5df6",
   "metadata": {},
   "outputs": [
    {
     "data": {
      "text/plain": [
       "'jeffra'"
      ]
     },
     "execution_count": 5,
     "metadata": {},
     "output_type": "execute_result"
    }
   ],
   "source": [
    "url_zip[0]"
   ]
  },
  {
   "cell_type": "code",
   "execution_count": 6,
   "id": "c1059ab1",
   "metadata": {},
   "outputs": [],
   "source": [
    "contributor_url=[]\n",
    "for i in url_zip:\n",
    "    api='https://api.github.com/users/'+i\n",
    "    contributor_url.append(api)"
   ]
  },
  {
   "cell_type": "code",
   "execution_count": 8,
   "id": "0a258e44",
   "metadata": {},
   "outputs": [],
   "source": [
    "username= '##'\n",
    "token= '##'"
   ]
  },
  {
   "cell_type": "code",
   "execution_count": 9,
   "id": "b970b84c",
   "metadata": {},
   "outputs": [],
   "source": [
    "headers = {'Authorization': 'token ' + token}"
   ]
  },
  {
   "cell_type": "code",
   "execution_count": 10,
   "id": "34c5d5f8",
   "metadata": {},
   "outputs": [],
   "source": [
    "api_target=['type','company','bio','public_repos','public_gists','followers','following','created_at']"
   ]
  },
  {
   "cell_type": "code",
   "execution_count": 11,
   "id": "5ac9454e",
   "metadata": {},
   "outputs": [
    {
     "data": {
      "application/vnd.jupyter.widget-view+json": {
       "model_id": "91dc119195d44a61aafa9cc89a510c4a",
       "version_major": 2,
       "version_minor": 0
      },
      "text/plain": [
       "  0%|          | 0/5000 [00:00<?, ?it/s]"
      ]
     },
     "metadata": {},
     "output_type": "display_data"
    }
   ],
   "source": [
    "api_contributor_list=[]\n",
    "from tqdm.notebook import tqdm\n",
    "import time\n",
    "for i in tqdm(contributor_url[5000:10000]):\n",
    "    response = requests.get(i,headers=headers)\n",
    "    temp=[]\n",
    "    for j in api_target:\n",
    "        re_li=response.json()[j]\n",
    "        temp.append(re_li)\n",
    "    api_contributor_list.append(temp)"
   ]
  },
  {
   "cell_type": "code",
   "execution_count": 12,
   "id": "04330667",
   "metadata": {},
   "outputs": [],
   "source": [
    "from pandas import Series"
   ]
  },
  {
   "cell_type": "code",
   "execution_count": 13,
   "id": "5272343c",
   "metadata": {},
   "outputs": [],
   "source": [
    "contributor_type=[]\n",
    "contributor_company=[]\n",
    "contributor_description=[]\n",
    "contributor_repos=[]\n",
    "contributor_gists=[]\n",
    "contributor_followers=[]\n",
    "contributor_following=[]\n",
    "contributor_date=[]\n",
    "\n",
    "for i in api_contributor_list:\n",
    "    contributor_type.append(i[0])\n",
    "    contributor_company.append(i[1])\n",
    "    contributor_description.append(i[2])\n",
    "    contributor_repos.append(i[3])\n",
    "    contributor_gists.append(i[4])\n",
    "    contributor_followers.append(i[5])\n",
    "    contributor_following.append(i[6])\n",
    "    contributor_date.append(i[7])"
   ]
  },
  {
   "cell_type": "code",
   "execution_count": 14,
   "id": "5b27e832",
   "metadata": {},
   "outputs": [],
   "source": [
    "aa=Series(data=contributor_type)\n",
    "bb=Series(data=contributor_company)\n",
    "cc=Series(data=contributor_description)\n",
    "dd=Series(data=contributor_repos)\n",
    "ee=Series(data=contributor_gists)\n",
    "ff=Series(data=contributor_followers)\n",
    "gg=Series(data=contributor_following)\n",
    "hh=Series(data=contributor_date)"
   ]
  },
  {
   "cell_type": "code",
   "execution_count": 15,
   "id": "dda1b907",
   "metadata": {},
   "outputs": [
    {
     "data": {
      "text/html": [
       "<div>\n",
       "<style scoped>\n",
       "    .dataframe tbody tr th:only-of-type {\n",
       "        vertical-align: middle;\n",
       "    }\n",
       "\n",
       "    .dataframe tbody tr th {\n",
       "        vertical-align: top;\n",
       "    }\n",
       "\n",
       "    .dataframe thead th {\n",
       "        text-align: right;\n",
       "    }\n",
       "</style>\n",
       "<table border=\"1\" class=\"dataframe\">\n",
       "  <thead>\n",
       "    <tr style=\"text-align: right;\">\n",
       "      <th></th>\n",
       "      <th>type</th>\n",
       "      <th>company</th>\n",
       "      <th>description</th>\n",
       "      <th>repos</th>\n",
       "      <th>gists</th>\n",
       "      <th>followers</th>\n",
       "      <th>following</th>\n",
       "      <th>date</th>\n",
       "    </tr>\n",
       "  </thead>\n",
       "  <tbody>\n",
       "    <tr>\n",
       "      <th>0</th>\n",
       "      <td>User</td>\n",
       "      <td>None</td>\n",
       "      <td>developer</td>\n",
       "      <td>60</td>\n",
       "      <td>4</td>\n",
       "      <td>5</td>\n",
       "      <td>11</td>\n",
       "      <td>2016-05-11T03:48:51Z</td>\n",
       "    </tr>\n",
       "    <tr>\n",
       "      <th>1</th>\n",
       "      <td>User</td>\n",
       "      <td>None</td>\n",
       "      <td>None</td>\n",
       "      <td>4</td>\n",
       "      <td>0</td>\n",
       "      <td>0</td>\n",
       "      <td>0</td>\n",
       "      <td>2020-03-15T16:54:19Z</td>\n",
       "    </tr>\n",
       "    <tr>\n",
       "      <th>2</th>\n",
       "      <td>User</td>\n",
       "      <td>None</td>\n",
       "      <td>None</td>\n",
       "      <td>6</td>\n",
       "      <td>0</td>\n",
       "      <td>0</td>\n",
       "      <td>1</td>\n",
       "      <td>2019-09-13T05:24:21Z</td>\n",
       "    </tr>\n",
       "    <tr>\n",
       "      <th>3</th>\n",
       "      <td>User</td>\n",
       "      <td>None</td>\n",
       "      <td>None</td>\n",
       "      <td>28</td>\n",
       "      <td>0</td>\n",
       "      <td>7</td>\n",
       "      <td>7</td>\n",
       "      <td>2018-07-04T06:23:48Z</td>\n",
       "    </tr>\n",
       "    <tr>\n",
       "      <th>4</th>\n",
       "      <td>User</td>\n",
       "      <td>None</td>\n",
       "      <td>Passionate Learner in the field of ML , Deep l...</td>\n",
       "      <td>19</td>\n",
       "      <td>0</td>\n",
       "      <td>2</td>\n",
       "      <td>1</td>\n",
       "      <td>2019-09-10T18:04:44Z</td>\n",
       "    </tr>\n",
       "    <tr>\n",
       "      <th>...</th>\n",
       "      <td>...</td>\n",
       "      <td>...</td>\n",
       "      <td>...</td>\n",
       "      <td>...</td>\n",
       "      <td>...</td>\n",
       "      <td>...</td>\n",
       "      <td>...</td>\n",
       "      <td>...</td>\n",
       "    </tr>\n",
       "    <tr>\n",
       "      <th>4995</th>\n",
       "      <td>User</td>\n",
       "      <td>None</td>\n",
       "      <td>None</td>\n",
       "      <td>7</td>\n",
       "      <td>0</td>\n",
       "      <td>1</td>\n",
       "      <td>1</td>\n",
       "      <td>2020-02-01T05:34:58Z</td>\n",
       "    </tr>\n",
       "    <tr>\n",
       "      <th>4996</th>\n",
       "      <td>User</td>\n",
       "      <td>None</td>\n",
       "      <td>Data Science | Machine Learning and Deep Learn...</td>\n",
       "      <td>3</td>\n",
       "      <td>0</td>\n",
       "      <td>1</td>\n",
       "      <td>0</td>\n",
       "      <td>2020-09-16T18:50:58Z</td>\n",
       "    </tr>\n",
       "    <tr>\n",
       "      <th>4997</th>\n",
       "      <td>User</td>\n",
       "      <td>None</td>\n",
       "      <td>None</td>\n",
       "      <td>2</td>\n",
       "      <td>0</td>\n",
       "      <td>2</td>\n",
       "      <td>0</td>\n",
       "      <td>2020-09-30T08:52:57Z</td>\n",
       "    </tr>\n",
       "    <tr>\n",
       "      <th>4998</th>\n",
       "      <td>User</td>\n",
       "      <td>DGIST</td>\n",
       "      <td>None</td>\n",
       "      <td>37</td>\n",
       "      <td>0</td>\n",
       "      <td>3</td>\n",
       "      <td>9</td>\n",
       "      <td>2016-04-01T06:29:41Z</td>\n",
       "    </tr>\n",
       "    <tr>\n",
       "      <th>4999</th>\n",
       "      <td>User</td>\n",
       "      <td>None</td>\n",
       "      <td>Game Programmer | Unity Student Ambassador | D...</td>\n",
       "      <td>20</td>\n",
       "      <td>0</td>\n",
       "      <td>14</td>\n",
       "      <td>17</td>\n",
       "      <td>2019-06-14T18:37:33Z</td>\n",
       "    </tr>\n",
       "  </tbody>\n",
       "</table>\n",
       "<p>5000 rows × 8 columns</p>\n",
       "</div>"
      ],
      "text/plain": [
       "      type company                                        description  repos  \\\n",
       "0     User    None                                          developer     60   \n",
       "1     User    None                                               None      4   \n",
       "2     User    None                                               None      6   \n",
       "3     User    None                                               None     28   \n",
       "4     User    None  Passionate Learner in the field of ML , Deep l...     19   \n",
       "...    ...     ...                                                ...    ...   \n",
       "4995  User    None                                               None      7   \n",
       "4996  User    None  Data Science | Machine Learning and Deep Learn...      3   \n",
       "4997  User    None                                               None      2   \n",
       "4998  User  DGIST                                                None     37   \n",
       "4999  User    None  Game Programmer | Unity Student Ambassador | D...     20   \n",
       "\n",
       "      gists  followers  following                  date  \n",
       "0         4          5         11  2016-05-11T03:48:51Z  \n",
       "1         0          0          0  2020-03-15T16:54:19Z  \n",
       "2         0          0          1  2019-09-13T05:24:21Z  \n",
       "3         0          7          7  2018-07-04T06:23:48Z  \n",
       "4         0          2          1  2019-09-10T18:04:44Z  \n",
       "...     ...        ...        ...                   ...  \n",
       "4995      0          1          1  2020-02-01T05:34:58Z  \n",
       "4996      0          1          0  2020-09-16T18:50:58Z  \n",
       "4997      0          2          0  2020-09-30T08:52:57Z  \n",
       "4998      0          3          9  2016-04-01T06:29:41Z  \n",
       "4999      0         14         17  2019-06-14T18:37:33Z  \n",
       "\n",
       "[5000 rows x 8 columns]"
      ]
     },
     "execution_count": 15,
     "metadata": {},
     "output_type": "execute_result"
    }
   ],
   "source": [
    "fifinal=pd.concat([aa,bb,cc,dd,ee,ff,gg,hh],axis=1)\n",
    "fifinal.columns=['type','company','description','repos','gists','followers','following','date']\n",
    "fifinal"
   ]
  },
  {
   "cell_type": "code",
   "execution_count": null,
   "id": "c55ae2b1",
   "metadata": {},
   "outputs": [],
   "source": []
  }
 ],
 "metadata": {
  "kernelspec": {
   "display_name": "Python 3",
   "language": "python",
   "name": "python3"
  },
  "language_info": {
   "codemirror_mode": {
    "name": "ipython",
    "version": 3
   },
   "file_extension": ".py",
   "mimetype": "text/x-python",
   "name": "python",
   "nbconvert_exporter": "python",
   "pygments_lexer": "ipython3",
   "version": "3.7.10"
  }
 },
 "nbformat": 4,
 "nbformat_minor": 5
}
