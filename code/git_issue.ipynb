{
 "cells": [
  {
   "cell_type": "code",
   "execution_count": 1,
   "id": "a6dc619c",
   "metadata": {},
   "outputs": [],
   "source": [
    "import pandas as pd\n",
    "import requests\n",
    "from selenium import webdriver\n",
    "import time\n",
    "import random\n",
    "from tqdm.notebook import tqdm\n",
    "import requests\n",
    "#pip install request\n",
    "#pip install beautifulsoup4\n",
    "from bs4 import BeautifulSoup"
   ]
  },
  {
   "cell_type": "code",
   "execution_count": 2,
   "id": "de1699d1",
   "metadata": {},
   "outputs": [
    {
     "data": {
      "text/html": [
       "<div>\n",
       "<style scoped>\n",
       "    .dataframe tbody tr th:only-of-type {\n",
       "        vertical-align: middle;\n",
       "    }\n",
       "\n",
       "    .dataframe tbody tr th {\n",
       "        vertical-align: top;\n",
       "    }\n",
       "\n",
       "    .dataframe thead th {\n",
       "        text-align: right;\n",
       "    }\n",
       "</style>\n",
       "<table border=\"1\" class=\"dataframe\">\n",
       "  <thead>\n",
       "    <tr style=\"text-align: right;\">\n",
       "      <th></th>\n",
       "      <th>Unnamed: 0</th>\n",
       "      <th>0</th>\n",
       "    </tr>\n",
       "  </thead>\n",
       "  <tbody>\n",
       "    <tr>\n",
       "      <th>0</th>\n",
       "      <td>0</td>\n",
       "      <td>https://github.com/microsoft/DeepSpeed</td>\n",
       "    </tr>\n",
       "    <tr>\n",
       "      <th>1</th>\n",
       "      <td>1</td>\n",
       "      <td>https://github.com/loujie0822/DeepIE</td>\n",
       "    </tr>\n",
       "    <tr>\n",
       "      <th>2</th>\n",
       "      <td>2</td>\n",
       "      <td>https://github.com/AaronJny/DeepLearningExamples</td>\n",
       "    </tr>\n",
       "    <tr>\n",
       "      <th>3</th>\n",
       "      <td>3</td>\n",
       "      <td>https://github.com/aws/deep-learning-containers</td>\n",
       "    </tr>\n",
       "    <tr>\n",
       "      <th>4</th>\n",
       "      <td>4</td>\n",
       "      <td>https://github.com/oneTaken/awesome_deep_learn...</td>\n",
       "    </tr>\n",
       "    <tr>\n",
       "      <th>...</th>\n",
       "      <td>...</td>\n",
       "      <td>...</td>\n",
       "    </tr>\n",
       "    <tr>\n",
       "      <th>11995</th>\n",
       "      <td>11995</td>\n",
       "      <td>https://github.com/Akilesh1989/music_generatio...</td>\n",
       "    </tr>\n",
       "    <tr>\n",
       "      <th>11996</th>\n",
       "      <td>11996</td>\n",
       "      <td>https://github.com/Dinesh-Stack97/Jovian-Deep-...</td>\n",
       "    </tr>\n",
       "    <tr>\n",
       "      <th>11997</th>\n",
       "      <td>11997</td>\n",
       "      <td>https://github.com/prerakpatelca/multi-layer-p...</td>\n",
       "    </tr>\n",
       "    <tr>\n",
       "      <th>11998</th>\n",
       "      <td>11998</td>\n",
       "      <td>https://github.com/OmerOzgur271/Advanced-Techn...</td>\n",
       "    </tr>\n",
       "    <tr>\n",
       "      <th>11999</th>\n",
       "      <td>11999</td>\n",
       "      <td>https://github.com/vishnubalaji/Deep-Learning-...</td>\n",
       "    </tr>\n",
       "  </tbody>\n",
       "</table>\n",
       "<p>12000 rows × 2 columns</p>\n",
       "</div>"
      ],
      "text/plain": [
       "       Unnamed: 0                                                  0\n",
       "0               0             https://github.com/microsoft/DeepSpeed\n",
       "1               1               https://github.com/loujie0822/DeepIE\n",
       "2               2   https://github.com/AaronJny/DeepLearningExamples\n",
       "3               3    https://github.com/aws/deep-learning-containers\n",
       "4               4  https://github.com/oneTaken/awesome_deep_learn...\n",
       "...           ...                                                ...\n",
       "11995       11995  https://github.com/Akilesh1989/music_generatio...\n",
       "11996       11996  https://github.com/Dinesh-Stack97/Jovian-Deep-...\n",
       "11997       11997  https://github.com/prerakpatelca/multi-layer-p...\n",
       "11998       11998  https://github.com/OmerOzgur271/Advanced-Techn...\n",
       "11999       11999  https://github.com/vishnubalaji/Deep-Learning-...\n",
       "\n",
       "[12000 rows x 2 columns]"
      ]
     },
     "execution_count": 2,
     "metadata": {},
     "output_type": "execute_result"
    }
   ],
   "source": [
    "url_zip=pd.read_csv('git_url_file.csv')\n",
    "url_zip"
   ]
  },
  {
   "cell_type": "code",
   "execution_count": 3,
   "id": "d7dcc17e",
   "metadata": {},
   "outputs": [],
   "source": [
    "from selenium import webdriver\n",
    "driver = webdriver.Chrome('chromedriver')"
   ]
  },
  {
   "cell_type": "code",
   "execution_count": 4,
   "id": "878b9c37",
   "metadata": {},
   "outputs": [],
   "source": [
    "issue_zip=[]\n",
    "for i in url_zip['0']:\n",
    "    temp=i+'/issues'\n",
    "    issue_zip.append(temp)"
   ]
  },
  {
   "cell_type": "code",
   "execution_count": 6,
   "id": "b01a4aed",
   "metadata": {},
   "outputs": [
    {
     "data": {
      "application/vnd.jupyter.widget-view+json": {
       "model_id": "f1cd0495afbc4294a22bc40339b79200",
       "version_major": 2,
       "version_minor": 0
      },
      "text/plain": [
       "  0%|          | 0/12000 [00:00<?, ?it/s]"
      ]
     },
     "metadata": {},
     "output_type": "display_data"
    }
   ],
   "source": [
    "issue_closed_list2=[]\n",
    "\n",
    "for url in tqdm(issue_zip):\n",
    "    driver.get(url)\n",
    "    time.sleep(1.5)\n",
    "    html = driver.page_source\n",
    "    soup=BeautifulSoup(html,'html.parser')\n",
    "    try:\n",
    "        closed_issue=driver.find_element_by_xpath('//*[@id=\"repo-content-pjax-container\"]/div/div[2]/div').text.split()[2]\n",
    "        issue_closed_list2.append(closed_issue)\n",
    "    except:\n",
    "        issue_closed_list2.append('')\n",
    "        "
   ]
  },
  {
   "cell_type": "code",
   "execution_count": 8,
   "id": "a7630fee",
   "metadata": {},
   "outputs": [
    {
     "data": {
      "text/plain": [
       "0        295\n",
       "1          6\n",
       "2          7\n",
       "3         35\n",
       "4          0\n",
       "        ... \n",
       "11995      0\n",
       "11996      0\n",
       "11997      0\n",
       "11998      0\n",
       "11999      0\n",
       "Length: 12000, dtype: object"
      ]
     },
     "execution_count": 8,
     "metadata": {},
     "output_type": "execute_result"
    }
   ],
   "source": [
    "from pandas import Series\n",
    "a=Series(data=issue_closed_list2)\n",
    "a"
   ]
  },
  {
   "cell_type": "code",
   "execution_count": null,
   "id": "5994c4ec",
   "metadata": {},
   "outputs": [],
   "source": []
  }
 ],
 "metadata": {
  "kernelspec": {
   "display_name": "Python 3",
   "language": "python",
   "name": "python3"
  },
  "language_info": {
   "codemirror_mode": {
    "name": "ipython",
    "version": 3
   },
   "file_extension": ".py",
   "mimetype": "text/x-python",
   "name": "python",
   "nbconvert_exporter": "python",
   "pygments_lexer": "ipython3",
   "version": "3.7.10"
  }
 },
 "nbformat": 4,
 "nbformat_minor": 5
}
